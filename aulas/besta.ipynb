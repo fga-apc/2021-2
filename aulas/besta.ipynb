{
 "cells": [
  {
   "cell_type": "code",
   "execution_count": 64,
   "metadata": {},
   "outputs": [],
   "source": [
    "from string import ascii_lowercase\n",
    "\n",
    "alef = \"\\u05d0\"\n",
    "letras = [chr(ord(alef) + i) for i in range(22)]\n",
    "gametria = {}\n",
    "\n",
    "for index in range(10):\n",
    "    gametria[letras[index]] = index + 1\n",
    "\n",
    "for index in range(10):\n",
    "    gametria[letras[index + 9]] = 10 * (index + 1)\n",
    "\n",
    "for index in range(2):\n",
    "    gametria[letras[index + 18]] = 100 * (index + 1)"
   ]
  },
  {
   "cell_type": "markdown",
   "metadata": {},
   "source": []
  },
  {
   "cell_type": "code",
   "execution_count": 42,
   "metadata": {},
   "outputs": [],
   "source": [
    "nums = [*range(1, 10), *range(10, 91, 10), *range(100, 901, 100)]\n",
    "gametria = dict(zip(letras, nums))"
   ]
  },
  {
   "cell_type": "code",
   "execution_count": 65,
   "metadata": {},
   "outputs": [
    {
     "data": {
      "text/plain": [
       "246"
      ]
     },
     "execution_count": 65,
     "metadata": {},
     "output_type": "execute_result"
    }
   ],
   "source": [
    "def numero(st: str) -> int:\n",
    "    return sum([gametria.get(c, 0) for c in st.lower()])\n",
    "\n",
    "numero(\"נרון קסר\")"
   ]
  },
  {
   "cell_type": "code",
   "execution_count": 45,
   "metadata": {},
   "outputs": [
    {
     "name": "stdout",
     "output_type": "stream",
     "text": [
      "v 400\n",
      "l 30\n",
      "a 1\n",
      "d 4\n",
      "m 40\n",
      "i 9\n",
      "r 90\n",
      "  0\n",
      "p 70\n",
      "u 300\n",
      "t 200\n",
      "i 9\n",
      "n 50\n",
      "! 0\n",
      "total: 1203\n"
     ]
    }
   ],
   "source": [
    "st = \"Vladmir Putin!\"\n",
    "\n",
    "total = 0\n",
    "for c in st.lower():\n",
    "    valor = gametria.get(c, 0)\n",
    "    total += valor\n",
    "\n",
    "print(\"total:\", total)\n"
   ]
  },
  {
   "cell_type": "code",
   "execution_count": 47,
   "metadata": {},
   "outputs": [
    {
     "name": "stdout",
     "output_type": "stream",
     "text": [
      "total: 1203\n"
     ]
    }
   ],
   "source": [
    "# st = \"putin\"\n",
    "st = \"Vladmir Putin!\"\n",
    "total = sum([gametria.get(c, 0) for c in st.lower()])\n",
    "print(\"total:\", total)"
   ]
  },
  {
   "cell_type": "code",
   "execution_count": 56,
   "metadata": {},
   "outputs": [],
   "source": [
    "fd = open(\"municipios.txt\")\n",
    "nomes_municipios = []\n",
    "\n",
    "for linha in fd:\n",
    "    celulas = linha.split(\"\\t\")\n",
    "    nomes_municipios.append(celulas[2])"
   ]
  },
  {
   "cell_type": "code",
   "execution_count": 62,
   "metadata": {},
   "outputs": [
    {
     "name": "stdout",
     "output_type": "stream",
     "text": [
      "Casserengue 666\n",
      "Guaratinga 666\n",
      "Paracatu 666\n"
     ]
    }
   ],
   "source": [
    "N_BESTA = 666\n",
    "\n",
    "for municipio in sorted(nomes_municipios):\n",
    "    valor = numero(municipio)\n",
    "    if valor == N_BESTA:\n",
    "        print(municipio, valor)"
   ]
  },
  {
   "cell_type": "code",
   "execution_count": 58,
   "metadata": {},
   "outputs": [
    {
     "data": {
      "text/plain": [
       "242"
      ]
     },
     "execution_count": 58,
     "metadata": {},
     "output_type": "execute_result"
    }
   ],
   "source": [
    "numero(\"Brasilia\")"
   ]
  },
  {
   "cell_type": "code",
   "execution_count": null,
   "metadata": {},
   "outputs": [],
   "source": []
  }
 ],
 "metadata": {
  "interpreter": {
   "hash": "e7370f93d1d0cde622a1f8e1c04877d8463912d04d973331ad4851f04de6915a"
  },
  "kernelspec": {
   "display_name": "Python 3.10.2 64-bit",
   "language": "python",
   "name": "python3"
  },
  "language_info": {
   "codemirror_mode": {
    "name": "ipython",
    "version": 3
   },
   "file_extension": ".py",
   "mimetype": "text/x-python",
   "name": "python",
   "nbconvert_exporter": "python",
   "pygments_lexer": "ipython3",
   "version": "3.10.2"
  },
  "orig_nbformat": 4
 },
 "nbformat": 4,
 "nbformat_minor": 2
}
